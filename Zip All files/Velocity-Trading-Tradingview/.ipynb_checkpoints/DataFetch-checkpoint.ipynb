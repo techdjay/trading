{
 "cells": [
  {
   "cell_type": "code",
   "execution_count": 6,
   "metadata": {},
   "outputs": [
    {
     "name": "stdout",
     "output_type": "stream",
     "text": [
      "                   Open         High          Low        Close   Volume  \\\n",
      "Date                                                                      \n",
      "2021-06-14  3279.000000  3308.699951  3270.350098  3276.350098  1847360   \n",
      "2021-06-15  3298.000000  3298.000000  3251.550049  3262.750000  1304985   \n",
      "2021-06-17  3265.500000  3336.050049  3260.000000  3317.750000  2273413   \n",
      "2021-06-18  3350.899902  3358.000000  3275.000000  3303.250000  2974040   \n",
      "\n",
      "            Dividends  Stock Splits  \n",
      "Date                                 \n",
      "2021-06-14          0             0  \n",
      "2021-06-15          0             0  \n",
      "2021-06-17          0             0  \n",
      "2021-06-18          0             0  \n"
     ]
    }
   ],
   "source": [
    "import yfinance as yf\n",
    "\n",
    "msft = yf.Ticker(\"TCS.NS\")\n",
    "\n",
    "# get stock info\n",
    "#print(msft.info)\n",
    "\n",
    "# get historical market data\n",
    "hist = msft.history(period=\"5d\")\n",
    "print(hist)"
   ]
  },
  {
   "cell_type": "code",
   "execution_count": null,
   "metadata": {},
   "outputs": [],
   "source": []
  }
 ],
 "metadata": {
  "interpreter": {
   "hash": "63fd5069d213b44bf678585dea6b12cceca9941eaf7f819626cde1f2670de90d"
  },
  "kernelspec": {
   "display_name": "Python 3",
   "language": "python",
   "name": "python3"
  },
  "language_info": {
   "codemirror_mode": {
    "name": "ipython",
    "version": 3
   },
   "file_extension": ".py",
   "mimetype": "text/x-python",
   "name": "python",
   "nbconvert_exporter": "python",
   "pygments_lexer": "ipython3",
   "version": "3.8.5"
  }
 },
 "nbformat": 4,
 "nbformat_minor": 2
}
