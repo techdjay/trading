{
 "cells": [
  {
   "cell_type": "code",
   "execution_count": null,
   "metadata": {},
   "outputs": [],
   "source": [
    "import openpyxl\n",
    "path = \"C:\\\\Users\\\\Jay\\\\Desktop\\\\TXT3LIvedata.xlsx\"\n",
    "# To open the workbook\n",
    "# workbook object is created\n",
    "wb_obj = openpyxl.load_workbook(path)\n",
    " \n",
    "# Get workbook active sheet object\n",
    "# from the active attribute\n",
    "sheet_obj = wb_obj.active\n",
    " \n",
    "# Cell objects also have a row, column,\n",
    "# and coordinate attributes that provide\n",
    "# location information for the cell.\n",
    " \n",
    "# Note: The first row or\n",
    "# column integer is 1, not 0.\n",
    " \n",
    "# Cell object is created by using\n",
    "# sheet object's cell() method.\n",
    "cell_obj = sheet_obj.cell(row = 1, column = 1)\n",
    " \n",
    "# Print value of cell object\n",
    "# using the value attribute\n",
    "print(cell_obj.value)"
   ]
  },
  {
   "cell_type": "code",
   "execution_count": null,
   "metadata": {},
   "outputs": [],
   "source": []
  },
  {
   "cell_type": "code",
   "execution_count": null,
   "metadata": {},
   "outputs": [],
   "source": []
  }
 ],
 "metadata": {
  "kernelspec": {
   "display_name": "Python 3",
   "language": "python",
   "name": "python3"
  },
  "language_info": {
   "codemirror_mode": {
    "name": "ipython",
    "version": 2
   },
   "file_extension": ".py",
   "mimetype": "text/x-python",
   "name": "python",
   "nbconvert_exporter": "python",
   "pygments_lexer": "ipython2",
   "version": "2.7.6"
  }
 },
 "nbformat": 4,
 "nbformat_minor": 1
}
